{
 "cells": [
  {
   "cell_type": "markdown",
   "id": "8db0e14f",
   "metadata": {},
   "source": [
    "# 1.Understanding the Data:"
   ]
  },
  {
   "cell_type": "markdown",
   "id": "a316f235",
   "metadata": {},
   "source": [
    "Import necessary libraries (e.g., pandas, matplotlib, seaborn).<br>\n",
    "Load the COVID-19 dataset.<br>\n",
    "Display basic information about the dataset (e.g., data types, missing values).<br>"
   ]
  },
  {
   "cell_type": "code",
   "execution_count": 3,
   "id": "09fd4d1b",
   "metadata": {
    "scrolled": true
   },
   "outputs": [
    {
     "name": "stdout",
     "output_type": "stream",
     "text": [
      "<class 'pandas.core.frame.DataFrame'>\n",
      "RangeIndex: 306429 entries, 0 to 306428\n",
      "Data columns (total 8 columns):\n",
      " #   Column           Non-Null Count   Dtype  \n",
      "---  ------           --------------   -----  \n",
      " 0   SNo              306429 non-null  int64  \n",
      " 1   ObservationDate  306429 non-null  object \n",
      " 2   Province/State   228326 non-null  object \n",
      " 3   Country/Region   306429 non-null  object \n",
      " 4   Last Update      306429 non-null  object \n",
      " 5   Confirmed        306429 non-null  float64\n",
      " 6   Deaths           306429 non-null  float64\n",
      " 7   Recovered        306429 non-null  float64\n",
      "dtypes: float64(3), int64(1), object(4)\n",
      "memory usage: 18.7+ MB\n"
     ]
    }
   ],
   "source": [
    "# load required libraries/modules\n",
    "import pandas as pd\n",
    "import matplotlib.pyplot as plt\n",
    "import seaborn as sns\n",
    "\n",
    "# Load the dataset\n",
    "df=pd.read_csv(r\"C:\\Users\\HP\\Downloads\\covid_19_data.csv\")\n",
    "\n",
    "\n",
    "# Display basic information about the dataset\n",
    "\n",
    "df.info()"
   ]
  },
  {
   "cell_type": "markdown",
   "id": "5189d6f0",
   "metadata": {},
   "source": [
    "# 2. Data Cleaning:"
   ]
  },
  {
   "cell_type": "code",
   "execution_count": null,
   "id": "78d8dd02",
   "metadata": {},
   "outputs": [],
   "source": [
    "Handle missing values.\n",
    "Convert data types if necessary.\n",
    "Check for duplicates."
   ]
  },
  {
   "cell_type": "code",
   "execution_count": 5,
   "id": "826f034a",
   "metadata": {},
   "outputs": [
    {
     "name": "stdout",
     "output_type": "stream",
     "text": [
      "Number of duplicates : 0\n",
      "<class 'pandas.core.frame.DataFrame'>\n",
      "RangeIndex: 306429 entries, 0 to 306428\n",
      "Data columns (total 8 columns):\n",
      " #   Column           Non-Null Count   Dtype         \n",
      "---  ------           --------------   -----         \n",
      " 0   SNo              306429 non-null  int64         \n",
      " 1   ObservationDate  306429 non-null  datetime64[ns]\n",
      " 2   Province/State   306429 non-null  object        \n",
      " 3   Country/Region   306429 non-null  object        \n",
      " 4   Last Update      306429 non-null  object        \n",
      " 5   Confirmed        306429 non-null  float64       \n",
      " 6   Deaths           306429 non-null  float64       \n",
      " 7   Recovered        306429 non-null  float64       \n",
      "dtypes: datetime64[ns](1), float64(3), int64(1), object(3)\n",
      "memory usage: 18.7+ MB\n"
     ]
    }
   ],
   "source": [
    "# Handle missing values\n",
    "\n",
    "for i in df:\n",
    "    if df[i].dtypes=='object':\n",
    "        m=df[i].mode()[0]\n",
    "        df[i]=df[i].fillna(m)\n",
    "\n",
    "df.isna().sum()\n",
    "df\n",
    "# Convert data types if necessary ( ObservationDate    datetime64[ns]) change to datetime\n",
    "df['ObservationDate']=pd.to_datetime(df['ObservationDate'])\n",
    "#checking if datatype is changed\n",
    "\n",
    "\n",
    "\n",
    "# df['ObservationDate'] = pd.to_datetime(df['ObservationDate'])\n",
    "\n",
    "# Check for duplicates\n",
    "# print(\"Number of duplicates:\", df.duplicated().sum())\n",
    "print('Number of duplicates :',df.duplicated().sum())\n",
    "df['ObservationDate'].dtypes\n",
    "\n",
    "df.info()"
   ]
  },
  {
   "cell_type": "markdown",
   "id": "004e0e00",
   "metadata": {},
   "source": [
    "# 3. Descriptive Statistics:"
   ]
  },
  {
   "cell_type": "markdown",
   "id": "bbed810e",
   "metadata": {},
   "source": [
    "Generate descriptive statistics (mean, median, min, max) for numeric columns.<br>\n",
    "Explore summary statistics for categorical columns."
   ]
  },
  {
   "cell_type": "code",
   "execution_count": 33,
   "id": "72237306",
   "metadata": {},
   "outputs": [
    {
     "name": "stdout",
     "output_type": "stream",
     "text": [
      "count      306429\n",
      "unique        736\n",
      "top       Unknown\n",
      "freq        82226\n",
      "Name: Province/State, dtype: object\n",
      "count     306429\n",
      "unique       229\n",
      "top       Russia\n",
      "freq       30251\n",
      "Name: Country/Region, dtype: object\n",
      "count                  306429\n",
      "unique                   1905\n",
      "top       2021-04-02 15:13:53\n",
      "freq                   239885\n",
      "Name: Last Update, dtype: object\n",
      "Province/State\n",
      "Unknown                         82226\n",
      "Amazonas                         1109\n",
      "Diamond Princess cruise ship      924\n",
      "Grand Princess                    882\n",
      "Punjab                            708\n",
      "                                ...  \n",
      "Harrison County, KY                 1\n",
      "Queens County, NY                   1\n",
      "Johnson County, IA                  1\n",
      "Unassigned Location, VT             1\n",
      "Charlotte County, FL                1\n",
      "Name: count, Length: 736, dtype: int64\n",
      "Country/Region\n",
      "Russia                 30251\n",
      "US                     26740\n",
      "Japan                  18059\n",
      "Mainland China         15758\n",
      "India                  13182\n",
      "                       ...  \n",
      " Azerbaijan                1\n",
      "North Ireland              1\n",
      "Republic of Ireland        1\n",
      "Cape Verde                 1\n",
      "East Timor                 1\n",
      "Name: count, Length: 229, dtype: int64\n",
      "Last Update\n",
      "2021-04-02 15:13:53    239885\n",
      "3/8/20 5:31              1252\n",
      "2021-05-30 04:20:55       765\n",
      "2021-04-26 04:21:04       765\n",
      "2021-04-20 04:20:41       765\n",
      "                        ...  \n",
      "2020-03-10T10:33:02         1\n",
      "2020-02-18T01:33:01         1\n",
      "2020-03-10T01:33:02         1\n",
      "2020-03-10T07:33:03         1\n",
      "2020-02-04T03:03:07         1\n",
      "Name: count, Length: 1905, dtype: int64\n"
     ]
    }
   ],
   "source": [
    "# Descriptive statistics\n",
    "# df.describe()\n",
    "\n",
    "\n",
    "# Summary statistics for categorical columns\n",
    "# seggerate\n",
    "cat=[]\n",
    "con=[]\n",
    "for i in df:\n",
    "    if df[i].dtypes=='object' :\n",
    "        cat.append(i)\n",
    "    else:\n",
    "        con.append(i)\n",
    "\n",
    "df.describe()\n",
    "\n",
    "\n",
    "for i in cat:\n",
    "    print(df[i].describe())\n",
    "\n",
    "\n",
    "for i in cat:\n",
    "    print(df[i].value_counts())"
   ]
  },
  {
   "cell_type": "markdown",
   "id": "39872389",
   "metadata": {},
   "source": [
    "# 4. Time Series Analysis:"
   ]
  },
  {
   "cell_type": "markdown",
   "id": "e2e355d2",
   "metadata": {},
   "source": [
    "Analyze the trends in confirmed, deaths, and recovered cases over time.<br>\n",
    "Create time-based visualizations."
   ]
  },
  {
   "cell_type": "code",
   "execution_count": 131,
   "id": "a74a66fd",
   "metadata": {},
   "outputs": [
    {
     "data": {
      "text/plain": [
       "<Axes: xlabel='ObservationDate', ylabel='Deaths'>"
      ]
     },
     "execution_count": 131,
     "metadata": {},
     "output_type": "execute_result"
    },
    {
     "data": {
      "image/png": "[encoded data removed]",
      "text/plain": [
       "<Figure size 640x480 with 1 Axes>"
      ]
     },
     "metadata": {},
     "output_type": "display_data"
    }
   ],
   "source": [
    "# Time series analysis\n",
    "# groupby 'ObservationDate' and apply aggregation functions like sum on deaths,confirmed ,recovered \n",
    "df_time = df.groupby('ObservationDate').agg({'Confirmed': 'sum', 'Deaths': 'sum', 'Recovered': 'sum'})\n",
    "df_time \n",
    "# Plot time series data using line plot\n",
    "\n",
    "# syntax: \n",
    "#sns.lineplot(data=df_time, x='ObservationDate', y='Confirmed', label='Confirmed')\n",
    "sns.lineplot(data=df_time, x='ObservationDate', y='Deaths', label='Deaths')\n",
    "\n",
    "\n"
   ]
  },
  {
   "cell_type": "markdown",
   "id": "a7d087b3",
   "metadata": {},
   "source": [
    "# 5. Geographical Analysis:"
   ]
  },
  {
   "cell_type": "code",
   "execution_count": 41,
   "id": "0def7145",
   "metadata": {},
   "outputs": [
    {
     "data": {
      "text/plain": [
       "<Axes: xlabel='Country/Region', ylabel='Confirmed'>"
      ]
     },
     "execution_count": 41,
     "metadata": {},
     "output_type": "execute_result"
    },
    {
     "data": {
      "image/png": "[encoded data removed]",
      "text/plain": [
       "<Figure size 640x480 with 1 Axes>"
      ]
     },
     "metadata": {},
     "output_type": "display_data"
    }
   ],
   "source": [
    "# Geographical analysis\n",
    "df_country = df.groupby('Country/Region').agg({'Confirmed': 'sum', 'Deaths': 'sum', 'Recovered': 'sum'})\n",
    "\n",
    "# Plot geographical data\n",
    "sns.barplot(x=df_country.index, y='Confirmed', data=df_country)\n",
    "\n"
   ]
  },
  {
   "cell_type": "markdown",
   "id": "0271decc",
   "metadata": {},
   "source": [
    "# 6. Correlation Analysis:"
   ]
  },
  {
   "cell_type": "markdown",
   "id": "74cf06f2",
   "metadata": {},
   "source": [
    "Examine the correlation between different numeric variables."
   ]
  },
  {
   "cell_type": "code",
   "execution_count": 59,
   "id": "c3c2f128",
   "metadata": {},
   "outputs": [
    {
     "data": {
      "text/plain": [
       "<Axes: >"
      ]
     },
     "execution_count": 59,
     "metadata": {},
     "output_type": "execute_result"
    },
    {
     "data": {
      "image/png": "[encoded data removed]",
      "text/plain": [
       "<Figure size 640x480 with 2 Axes>"
      ]
     },
     "metadata": {},
     "output_type": "display_data"
    }
   ],
   "source": [
    "# Correlation analysis between confirmed,deaths and recovered\n",
    "\n",
    "# Plot correlation on heat map\n",
    "df.columns\n",
    "abc=df[['Confirmed', 'Deaths', 'Recovered']].corr()\n",
    "sns.heatmap(abc,annot=True,cmap='viridis')"
   ]
  },
  {
   "cell_type": "markdown",
   "id": "31e692b2",
   "metadata": {},
   "source": [
    "# 7. Advanced Analysis:"
   ]
  },
  {
   "cell_type": "markdown",
   "id": "e8c818b9",
   "metadata": {},
   "source": [
    "Explore advanced visualizations or statistical tests based on the specific questions you want to answer."
   ]
  },
  {
   "cell_type": "code",
   "execution_count": 87,
   "id": "bc0fe4db",
   "metadata": {},
   "outputs": [],
   "source": [
    "# Calculate the total number of confirmed cases, deaths, and recoveries for each country/region.\n",
    "\n",
    "total_confirmed=df['Confirmed'].groupby(by=df['Country/Region']).sum()\n",
    "total_recovered=df['Recovered'].groupby(by=df['Country/Region']).sum()\n",
    "total_deaths=df['Deaths'].groupby(by=df['Country/Region']).sum()\n"
   ]
  },
  {
   "cell_type": "code",
   "execution_count": 117,
   "id": "6825f26e",
   "metadata": {},
   "outputs": [
    {
     "data": {
      "text/html": [
       "<div>\n",
       "<style scoped>\n",
       "    .dataframe tbody tr th:only-of-type {\n",
       "        vertical-align: middle;\n",
       "    }\n",
       "\n",
       "    .dataframe tbody tr th {\n",
       "        vertical-align: top;\n",
       "    }\n",
       "\n",
       "    .dataframe thead th {\n",
       "        text-align: right;\n",
       "    }\n",
       "</style>\n",
       "<table border=\"1\" class=\"dataframe\">\n",
       "  <thead>\n",
       "    <tr style=\"text-align: right;\">\n",
       "      <th></th>\n",
       "      <th>SNo</th>\n",
       "      <th>ObservationDate</th>\n",
       "      <th>Province/State</th>\n",
       "      <th>Country/Region</th>\n",
       "      <th>Last Update</th>\n",
       "      <th>Confirmed</th>\n",
       "      <th>Deaths</th>\n",
       "      <th>Recovered</th>\n",
       "    </tr>\n",
       "  </thead>\n",
       "  <tbody>\n",
       "    <tr>\n",
       "      <th>179328</th>\n",
       "      <td>179329</td>\n",
       "      <td>2020-12-14</td>\n",
       "      <td>Recovered</td>\n",
       "      <td>US</td>\n",
       "      <td>2021-04-02 15:13:53</td>\n",
       "      <td>0.0</td>\n",
       "      <td>0.0</td>\n",
       "      <td>6399531.0</td>\n",
       "    </tr>\n",
       "    <tr>\n",
       "      <th>178565</th>\n",
       "      <td>178566</td>\n",
       "      <td>2020-12-13</td>\n",
       "      <td>Recovered</td>\n",
       "      <td>US</td>\n",
       "      <td>2021-04-02 15:13:53</td>\n",
       "      <td>0.0</td>\n",
       "      <td>0.0</td>\n",
       "      <td>6298082.0</td>\n",
       "    </tr>\n",
       "    <tr>\n",
       "      <th>177802</th>\n",
       "      <td>177803</td>\n",
       "      <td>2020-12-12</td>\n",
       "      <td>Recovered</td>\n",
       "      <td>US</td>\n",
       "      <td>2021-04-02 15:13:53</td>\n",
       "      <td>0.0</td>\n",
       "      <td>0.0</td>\n",
       "      <td>6246605.0</td>\n",
       "    </tr>\n",
       "    <tr>\n",
       "      <th>177039</th>\n",
       "      <td>177040</td>\n",
       "      <td>2020-12-11</td>\n",
       "      <td>Recovered</td>\n",
       "      <td>US</td>\n",
       "      <td>2021-04-02 15:13:53</td>\n",
       "      <td>0.0</td>\n",
       "      <td>0.0</td>\n",
       "      <td>6135314.0</td>\n",
       "    </tr>\n",
       "    <tr>\n",
       "      <th>176276</th>\n",
       "      <td>176277</td>\n",
       "      <td>2020-12-10</td>\n",
       "      <td>Recovered</td>\n",
       "      <td>US</td>\n",
       "      <td>2021-04-02 15:13:53</td>\n",
       "      <td>0.0</td>\n",
       "      <td>0.0</td>\n",
       "      <td>5985047.0</td>\n",
       "    </tr>\n",
       "    <tr>\n",
       "      <th>...</th>\n",
       "      <td>...</td>\n",
       "      <td>...</td>\n",
       "      <td>...</td>\n",
       "      <td>...</td>\n",
       "      <td>...</td>\n",
       "      <td>...</td>\n",
       "      <td>...</td>\n",
       "      <td>...</td>\n",
       "    </tr>\n",
       "    <tr>\n",
       "      <th>169485</th>\n",
       "      <td>169486</td>\n",
       "      <td>2020-12-01</td>\n",
       "      <td>Texas</td>\n",
       "      <td>US</td>\n",
       "      <td>2021-04-02 15:13:53</td>\n",
       "      <td>1306735.0</td>\n",
       "      <td>22473.0</td>\n",
       "      <td>0.0</td>\n",
       "    </tr>\n",
       "    <tr>\n",
       "      <th>306428</th>\n",
       "      <td>306429</td>\n",
       "      <td>2021-05-29</td>\n",
       "      <td>Zuid-Holland</td>\n",
       "      <td>Netherlands</td>\n",
       "      <td>2021-05-30 04:20:55</td>\n",
       "      <td>391559.0</td>\n",
       "      <td>4252.0</td>\n",
       "      <td>0.0</td>\n",
       "    </tr>\n",
       "    <tr>\n",
       "      <th>141534</th>\n",
       "      <td>141535</td>\n",
       "      <td>2020-10-25</td>\n",
       "      <td>Unknown</td>\n",
       "      <td>Colombia</td>\n",
       "      <td>2021-04-02 15:13:53</td>\n",
       "      <td>0.0</td>\n",
       "      <td>-154.0</td>\n",
       "      <td>-8072.0</td>\n",
       "    </tr>\n",
       "    <tr>\n",
       "      <th>118363</th>\n",
       "      <td>118364</td>\n",
       "      <td>2020-09-24</td>\n",
       "      <td>Unknown</td>\n",
       "      <td>Colombia</td>\n",
       "      <td>2021-04-02 15:13:53</td>\n",
       "      <td>0.0</td>\n",
       "      <td>-178.0</td>\n",
       "      <td>-12684.0</td>\n",
       "    </tr>\n",
       "    <tr>\n",
       "      <th>145277</th>\n",
       "      <td>145278</td>\n",
       "      <td>2020-10-30</td>\n",
       "      <td>Unknown</td>\n",
       "      <td>Colombia</td>\n",
       "      <td>2021-04-02 15:13:53</td>\n",
       "      <td>0.0</td>\n",
       "      <td>505.0</td>\n",
       "      <td>-854405.0</td>\n",
       "    </tr>\n",
       "  </tbody>\n",
       "</table>\n",
       "<p>306429 rows × 8 columns</p>\n",
       "</div>"
      ],
      "text/plain": [
       "           SNo ObservationDate Province/State Country/Region  \\\n",
       "179328  179329      2020-12-14      Recovered             US   \n",
       "178565  178566      2020-12-13      Recovered             US   \n",
       "177802  177803      2020-12-12      Recovered             US   \n",
       "177039  177040      2020-12-11      Recovered             US   \n",
       "176276  176277      2020-12-10      Recovered             US   \n",
       "...        ...             ...            ...            ...   \n",
       "169485  169486      2020-12-01          Texas             US   \n",
       "306428  306429      2021-05-29   Zuid-Holland    Netherlands   \n",
       "141534  141535      2020-10-25        Unknown       Colombia   \n",
       "118363  118364      2020-09-24        Unknown       Colombia   \n",
       "145277  145278      2020-10-30        Unknown       Colombia   \n",
       "\n",
       "                Last Update  Confirmed   Deaths  Recovered  \n",
       "179328  2021-04-02 15:13:53        0.0      0.0  6399531.0  \n",
       "178565  2021-04-02 15:13:53        0.0      0.0  6298082.0  \n",
       "177802  2021-04-02 15:13:53        0.0      0.0  6246605.0  \n",
       "177039  2021-04-02 15:13:53        0.0      0.0  6135314.0  \n",
       "176276  2021-04-02 15:13:53        0.0      0.0  5985047.0  \n",
       "...                     ...        ...      ...        ...  \n",
       "169485  2021-04-02 15:13:53  1306735.0  22473.0        0.0  \n",
       "306428  2021-05-30 04:20:55   391559.0   4252.0        0.0  \n",
       "141534  2021-04-02 15:13:53        0.0   -154.0    -8072.0  \n",
       "118363  2021-04-02 15:13:53        0.0   -178.0   -12684.0  \n",
       "145277  2021-04-02 15:13:53        0.0    505.0  -854405.0  \n",
       "\n",
       "[306429 rows x 8 columns]"
      ]
     },
     "execution_count": 117,
     "metadata": {},
     "output_type": "execute_result"
    }
   ],
   "source": [
    "# Identify the countries/regions with the highest number of confirmed cases, deaths, and recoveries.\n",
    "ab=df.sort_values(by='Confirmed',ascending=False)\n",
    "# ab\n",
    "high_conf=ab.head(1)\n",
    "bc=df.sort_values(by='Deaths',ascending=False)\n",
    "# bc\n",
    "high_death=bc.head(1)\n",
    "cd=df.sort_values(by='Recovered',ascending=False)\n",
    "# cd\n",
    "high_recov=cd.head(1)"
   ]
  },
  {
   "cell_type": "code",
   "execution_count": 143,
   "id": "3ebdf995",
   "metadata": {},
   "outputs": [
    {
     "data": {
      "image/png": "[encoded data removed]",
      "text/plain": [
       "<Figure size 640x480 with 1 Axes>"
      ]
     },
     "metadata": {},
     "output_type": "display_data"
    },
    {
     "data": {
      "text/plain": [
       "<Axes: ylabel='Frequency'>"
      ]
     },
     "execution_count": 143,
     "metadata": {},
     "output_type": "execute_result"
    },
    {
     "data": {
      "image/png": "[encoded data removed]",
      "text/plain": [
       "<Figure size 640x480 with 1 Axes>"
      ]
     },
     "metadata": {},
     "output_type": "display_data"
    }
   ],
   "source": [
    "# Visualize the distribution of deaths using bar chart\n",
    "plt.hist(df['Deaths'],bins=10)\n",
    "plt.title('Distribution Of Deaths')\n",
    "plt.ylabel('Frequency')\n",
    "plt.show()\n",
    "\n",
    "# or\n",
    "\n",
    "df['Deaths'].value_counts().plot(kind='hist')\n"
   ]
  }
 ],
 "metadata": {
  "kernelspec": {
   "display_name": "Python 3 (ipykernel)",
   "language": "python",
   "name": "python3"
  },
  "language_info": {
   "codemirror_mode": {
    "name": "ipython",
    "version": 3
   },
   "file_extension": ".py",
   "mimetype": "text/x-python",
   "name": "python",
   "nbconvert_exporter": "python",
   "pygments_lexer": "ipython3",
   "version": "3.12.4"
  }
 },
 "nbformat": 4,
 "nbformat_minor": 5
}
